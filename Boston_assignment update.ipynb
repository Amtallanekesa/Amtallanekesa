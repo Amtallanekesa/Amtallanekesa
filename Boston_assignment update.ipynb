{
  "nbformat": 4,
  "nbformat_minor": 0,
  "metadata": {
    "colab": {
      "provenance": [],
      "collapsed_sections": [],
      "authorship_tag": "ABX9TyM0UFCWYGRfC2pG32Y+7jCX",
      "include_colab_link": true
    },
    "kernelspec": {
      "name": "python3",
      "display_name": "Python 3"
    },
    "language_info": {
      "name": "python"
    }
  },
  "cells": [
    {
      "cell_type": "markdown",
      "metadata": {
        "id": "view-in-github",
        "colab_type": "text"
      },
      "source": [
        "<a href=\"https://colab.research.google.com/github/Amtallanekesa/Amtallanekesa/blob/main/Boston_assignment%20update.ipynb\" target=\"_parent\"><img src=\"https://colab.research.google.com/assets/colab-badge.svg\" alt=\"Open In Colab\"/></a>"
      ]
    },
    {
      "cell_type": "markdown",
      "source": [
        "import dependencies"
      ],
      "metadata": {
        "id": "C7ZmlN20QGud"
      }
    },
    {
      "cell_type": "code",
      "execution_count": null,
      "metadata": {
        "id": "UIqEPOuEBjHY"
      },
      "outputs": [],
      "source": [
        "\n",
        "import pandas as pd\n",
        "import numpy as np\n",
        "from sklearn import datasets, metrics\n",
        "from sklearn.model_selection import train_test_split\n",
        "from sklearn.pipeline import make_pipeline\n",
        "from sklearn.preprocessing import MinMaxScaler\n",
        "from sklearn.preprocessing import StandardScaler\n",
        "from sklearn.impute import KNNImputer\n",
        "from sklearn.linear_model import LinearRegression\n",
        "from sklearn.metrics import mean_squared_error\n",
        "import matplotlib.pyplot as plt\n",
        "import seaborn as sns\n",
        "import time\n",
        "sns.set()"
      ]
    },
    {
      "cell_type": "markdown",
      "source": [
        "defining some helper funcctions"
      ],
      "metadata": {
        "id": "ULwibm6qZJlI"
      }
    },
    {
      "cell_type": "code",
      "source": [
        "def timer(f):\n",
        "    start=time.time()\n",
        "    res=f()\n",
        "    end=time.time()\n",
        "    print(\"fitting: {}\".format(end-start))\n",
        "    return res\n",
        "def build_model_for_data(data, target):\n",
        "    pipeline=make_pipeline(LinearRegression())\n",
        "    model=timer(lambda: pipeline.fit(x_train,y_train))\n",
        "    return(x_test,y_test,model)\n",
        "\n"
      ],
      "metadata": {
        "id": "2_v_qKf1ZMrW"
      },
      "execution_count": null,
      "outputs": []
    },
    {
      "cell_type": "code",
      "source": [],
      "metadata": {
        "id": "0akaOA1bTpF-"
      },
      "execution_count": null,
      "outputs": []
    },
    {
      "cell_type": "markdown",
      "source": [
        "importing the dataset\n"
      ],
      "metadata": {
        "id": "nWXfU4fbdCCN"
      }
    },
    {
      "cell_type": "code",
      "source": [
        "from sklearn.datasets import load_boston\n",
        "boston=load_boston()\n",
        "print(boston)"
      ],
      "metadata": {
        "id": "vvKjYmQRPAzD"
      },
      "execution_count": null,
      "outputs": []
    },
    {
      "cell_type": "code",
      "source": [
        "print(boston.feature_names)"
      ],
      "metadata": {
        "id": "mpQKbTPVG4mp"
      },
      "execution_count": null,
      "outputs": []
    },
    {
      "cell_type": "markdown",
      "source": [
        "Transform the dataset into a dataframe.\n",
        "\n",
        "data=independent variables/x values\n",
        "\n",
        "feature_names=column names\n",
        "\n",
        "target=price of the houses/y values"
      ],
      "metadata": {
        "id": "lKvmvVVxP6VP"
      }
    },
    {
      "cell_type": "code",
      "source": [
        "df_x=pd.DataFrame(boston.data,columns=boston.feature_names)\n",
        "df_y=pd.DataFrame(boston.target)"
      ],
      "metadata": {
        "id": "0JsxAc17RXE9"
      },
      "execution_count": null,
      "outputs": []
    },
    {
      "cell_type": "markdown",
      "source": [
        "Get some statistics from the dataset"
      ],
      "metadata": {
        "id": "mU_3JdI7SiyF"
      }
    },
    {
      "cell_type": "code",
      "source": [
        "df_x.describe()"
      ],
      "metadata": {
        "id": "rZ-w5ttFSmcN"
      },
      "execution_count": null,
      "outputs": []
    },
    {
      "cell_type": "markdown",
      "source": [
        "Initialize the linear regression model"
      ],
      "metadata": {
        "id": "0-2K9UdjTvde"
      }
    },
    {
      "cell_type": "code",
      "source": [
        "reg =LinearRegression()"
      ],
      "metadata": {
        "id": "uz5QzvuXTzWU"
      },
      "execution_count": null,
      "outputs": []
    },
    {
      "cell_type": "markdown",
      "source": [
        "split the data into 70% training and 30% testing data"
      ],
      "metadata": {
        "id": "RyYUkL-XVxF0"
      }
    },
    {
      "cell_type": "code",
      "source": [
        "x_train,x_test,y_train,y_test=train_test_split(df_x,df_y,test_size=0.30,random_state=40)"
      ],
      "metadata": {
        "id": "uavia4LeUuzw"
      },
      "execution_count": null,
      "outputs": []
    },
    {
      "cell_type": "code",
      "source": [
        "sns.pairplot(x_train,hue = 'AGE')"
      ],
      "metadata": {
        "id": "rwnQPHHhuEfn"
      },
      "execution_count": null,
      "outputs": []
    },
    {
      "cell_type": "code",
      "source": [
        "print()\n",
        "print()\n",
        "print(\"Example value distribution of features: \")\n",
        "for x in boston['data'][0]:\n",
        "  print(x)"
      ],
      "metadata": {
        "id": "-VPeaPGzW6_v"
      },
      "execution_count": null,
      "outputs": []
    },
    {
      "cell_type": "markdown",
      "source": [
        "Do some min-max rescaling"
      ],
      "metadata": {
        "id": "ylPSrVfF5eBJ"
      }
    },
    {
      "cell_type": "code",
      "source": [
        "preprocessor1=MinMaxScaler()\n",
        "boston_min_max=min_max.fit_transform(boston[\"data\"])\n",
        "print()\n",
        "print(\"Value distribution after min max:\") \n",
        "for x in boston_min_max[0]:\n",
        "    print(x)"
      ],
      "metadata": {
        "id": "uudGzipN2AXL"
      },
      "execution_count": null,
      "outputs": []
    },
    {
      "cell_type": "code",
      "source": [],
      "metadata": {
        "id": "ZRLi_srqjTVG"
      },
      "execution_count": null,
      "outputs": []
    },
    {
      "cell_type": "code",
      "source": [
        "preprocessor2=StandardScaler()\n",
        "boston_std=std.fit_transform(boston[\"data\"])\n",
        "print(\"Value distribution after std:\")\n",
        "for x in boston_std[0]:\n",
        "    print(x)"
      ],
      "metadata": {
        "id": "4q6BCKTb5vK_"
      },
      "execution_count": null,
      "outputs": []
    },
    {
      "cell_type": "markdown",
      "source": [
        "train the model with my training data"
      ],
      "metadata": {
        "id": "ZSjOd9W5WIP9"
      }
    },
    {
      "cell_type": "code",
      "source": [
        "regModel=make_pipeline(preprocessor1,preprocessor2,LinearRegression)"
      ],
      "metadata": {
        "id": "1GsJVbd7F_I4"
      },
      "execution_count": null,
      "outputs": []
    },
    {
      "cell_type": "code",
      "source": [
        "model=reg.fit(x_train, y_train)"
      ],
      "metadata": {
        "id": "cbTKFIOlWZvR"
      },
      "execution_count": null,
      "outputs": []
    },
    {
      "cell_type": "code",
      "source": [
        "print()\n",
        "print(\"Without:\")\n",
        "x_test,y_test,model=build_model_for_data(boston[\"data\"],boston[\"target\"])\n",
        "y_pred=model.predict(x_test)\n",
        "print(\"MSE: {}\".format(mean_squared_error(y_test,y_pred)))"
      ],
      "metadata": {
        "id": "yEbSx9-WLPjZ"
      },
      "execution_count": null,
      "outputs": []
    },
    {
      "cell_type": "code",
      "source": [
        "print()\n",
        "print(\"MinMax:\")\n",
        "x_test,y_test,model=build_model_for_data(boston_min_max,boston[\"target\"])\n",
        "y_pred=model.predict(x_test)\n",
        "print(\"MSE: {}\",format(mean_squared_error(y_test,y_pred)))"
      ],
      "metadata": {
        "id": "6Xomr5ZJb7h4"
      },
      "execution_count": null,
      "outputs": []
    },
    {
      "cell_type": "code",
      "source": [
        "print()\n",
        "print(\"std:\")\n",
        "x_test,y_test,model=build_model_for_data(boston_std,boston[\"target\"])\n",
        "y_pred=model.predict(x_test)\n",
        "print(\"MSE: {}\",format(mean_squared_error(y_test,y_pred)) )"
      ],
      "metadata": {
        "id": "KQE8WpE6dErQ"
      },
      "execution_count": null,
      "outputs": []
    },
    {
      "cell_type": "markdown",
      "source": [
        "Print the predictions on our test data"
      ],
      "metadata": {
        "id": "II_zyIS-YhAV"
      }
    },
    {
      "cell_type": "code",
      "source": [
        "y_pred=reg.predict(x_test)\n",
        "print(y_pred)"
      ],
      "metadata": {
        "id": "B1NxcAeYYktc"
      },
      "execution_count": null,
      "outputs": []
    },
    {
      "cell_type": "markdown",
      "source": [
        "check the actual values"
      ],
      "metadata": {
        "id": "Tg-u0nqtZVQ8"
      }
    },
    {
      "cell_type": "code",
      "source": [
        "print(y_test)"
      ],
      "metadata": {
        "id": "U18ZlDTvZZTU"
      },
      "execution_count": null,
      "outputs": []
    },
    {
      "cell_type": "markdown",
      "source": [
        "plot training data, test data and prediction line against actual test data"
      ],
      "metadata": {
        "id": "PX5DR-69hJIn"
      }
    },
    {
      "cell_type": "code",
      "source": [
        "plt.scatter(x_train,y_train, label='Training data', color='g')\n",
        "plt.legend()\n",
        "plt.show()"
      ],
      "metadata": {
        "id": "SlPyIbSKlx75"
      },
      "execution_count": null,
      "outputs": []
    },
    {
      "cell_type": "code",
      "source": [
        "plt.scatter(x_test.iloc[:,0],y_test, label='test data',color='r')\n",
        "plt.legend()\n",
        "plt.show()"
      ],
      "metadata": {
        "id": "sne3Sa5FFm-2"
      },
      "execution_count": null,
      "outputs": []
    },
    {
      "cell_type": "code",
      "source": [
        "sns.jointplot(data=df_x,x=\"CRIM\",y=\"DIS\",hue=\"AGE\")"
      ],
      "metadata": {
        "id": "9ZBw4wXHqjEf"
      },
      "execution_count": null,
      "outputs": []
    },
    {
      "cell_type": "code",
      "source": [
        "sns.lmplot(data=df_x,x=\"ZN\",y=\"NOX\",hue=\"TAX\",col=\"TAX\",row=\"INDUS\");"
      ],
      "metadata": {
        "id": "X9gnNp0JIm7S"
      },
      "execution_count": null,
      "outputs": []
    }
  ]
}